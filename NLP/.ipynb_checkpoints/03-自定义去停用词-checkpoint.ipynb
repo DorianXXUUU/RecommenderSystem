{
 "cells": [
  {
   "cell_type": "markdown",
   "metadata": {},
   "source": [
    "# 自定义去停用词\n",
    "## 1.文本信息的正则清洗\n",
    "## 2.结巴中文分词\n",
    "## 3.中文分词词性解读\n",
    "## 4.根据词性规划构建自定义停用词"
   ]
  },
  {
   "cell_type": "code",
   "execution_count": 1,
   "metadata": {},
   "outputs": [],
   "source": [
    "import re\n",
    "import jieba\n",
    "import sys"
   ]
  },
  {
   "cell_type": "code",
   "execution_count": 2,
   "metadata": {},
   "outputs": [],
   "source": [
    "# 读取文本信息\n",
    "def readFile(path):\n",
    "    str_doc = \"\"\n",
    "    with open(path, 'r', encoding='utf-8') as f:\n",
    "              str_doc = f.read()\n",
    "    return str_doc"
   ]
  },
  {
   "cell_type": "code",
   "execution_count": 3,
   "metadata": {},
   "outputs": [],
   "source": [
    "# 正则对字符串清洗\n",
    "def textParse(str_doc):\n",
    "    # 去掉字符\n",
    "    str_doc = re.sub('\\u3000', '', str_doc)\n",
    "    # 去除空格\n",
    "    str_doc = re.sub('\\s+', ' ', str_doc)\n",
    "    # 去除换行符\n",
    "    str_doc= re.sub('[a-zA-Z0-9’!\"#$%&\\'()*+,-./:;<=>?@，。?★、…【】《》？“”‘’！[\\\\]^_`{|}~\\s]+', \" \", str_doc)\n",
    "    # 正则过滤掉特殊符号,标点,英文,数字...\n",
    "    r1 = '[a-zA-Z0-9]+'\n",
    "    str_doc = re.sub(r1, \"\", str_doc)\n",
    "    return str_doc\n",
    "    "
   ]
  },
  {
   "cell_type": "code",
   "execution_count": 4,
   "metadata": {},
   "outputs": [],
   "source": [
    "def get_stop_words(path=r'./停用词.txt'):\n",
    "    file = open(path, 'r', encoding='utf-8').read().split('\\n')\n",
    "    return set(file)"
   ]
  },
  {
   "cell_type": "code",
   "execution_count": 8,
   "metadata": {},
   "outputs": [
    {
     "ename": "SyntaxError",
     "evalue": "invalid syntax (<ipython-input-8-2cd67e0e43b6>, line 6)",
     "output_type": "error",
     "traceback": [
      "\u001b[0;36m  File \u001b[0;32m\"<ipython-input-8-2cd67e0e43b6>\"\u001b[0;36m, line \u001b[0;32m6\u001b[0m\n\u001b[0;31m    if words_list[i] in stop_words;\u001b[0m\n\u001b[0m                                  ^\u001b[0m\n\u001b[0;31mSyntaxError\u001b[0m\u001b[0;31m:\u001b[0m invalid syntax\n"
     ]
    }
   ],
   "source": [
    "def rm_tokens(words, stwlist):\n",
    "    words_list = list(words)\n",
    "    stop_words = stwlist\n",
    "    for i in range(words_list.__len__())[::-1]:\n",
    "        # 去除停用词\n",
    "        if words_list[i] in stop_words:\n",
    "            words_list.pop(i)\n",
    "        # 去除数字\n",
    "        elif words_list[i].isdigit():\n",
    "            words_list.pop(i)\n",
    "        # 去除单个字符\n",
    "        elif len(words_list[i]) == 1:\n",
    "            words_list.pop(i)\n",
    "        # 去除空格\n",
    "        elif words_list[i] == \" \":\n",
    "            words_list.pop(i)\n",
    "    return words_list"
   ]
  },
  {
   "cell_type": "code",
   "execution_count": 6,
   "metadata": {},
   "outputs": [],
   "source": [
    "def seg_doc(str_doc):\n",
    "    # 1.处理原文本\n",
    "    sent_list = str_doc.split('\\n')\n",
    "    sent_list = map(textParse, sent_list)\n",
    "    # 2.获取停用词\n",
    "    stwlist = get_stop_words()\n",
    "    # 3.分词并去除停用词\n",
    "    word_2dlist = [rm_tokens(jieba.cut(part, cut_all=False), stwlist) for part in sent_list]\n",
    "    # 4. 合并列表\n",
    "    word_list = sum(word_2dlist, [])\n",
    "#     print(sent_list)\n",
    "    return word_list"
   ]
  },
  {
   "cell_type": "code",
   "execution_count": 7,
   "metadata": {
    "scrolled": false
   },
   "outputs": [
    {
     "name": "stderr",
     "output_type": "stream",
     "text": [
      "Building prefix dict from the default dictionary ...\n",
      "Loading model from cache /var/folders/lp/3p8p8yx17vs3nf76dxw6kx_m0000gn/T/jieba.cache\n"
     ]
    },
    {
     "name": "stdout",
     "output_type": "stream",
     "text": [
      "“一起看破晓天光，黄昏日暮。”\n",
      "\n",
      "中年的陈奕迅玩起浪漫来还是很拿手。7月3日，他在微博宣布举行一场线上慈善音乐会“Live is so much better with Music Eason Chan Charity Concert”，时间定为7月11日早上6点和傍晚5点，恰好是日出和日落的时间。这让人不由得想起理查德·林克莱特执导的系列电影《爱在黎明破晓前》《爱在日落黄昏时》。\n",
      "\n",
      "这是香港现场演出及制作行业协会在疫情期间举行的第一场慈善音乐会。半年来，香港的演出活动全部叫停，音乐人们也没有了演出机会，而陈奕迅这次出来开唱，部分也是为了替协会筹款，连同后者筹集的500万港币一同捐给音乐人们共\b渡难关。\n",
      "\n",
      "今早，身边一些歌迷朋友早早定好了闹钟，在6点钟看起了音乐会的上半场。可惜他们等来的不是期待中的直播。由于天气不佳，团队改用了昨天在同一时刻录的演唱片段，冥冥之中，恰好是《岁月如歌》里唱的那样：“天气不似预期，但要走，总要飞。”\n",
      "\n",
      "维多利亚港湾还在沉睡，晨曦与密云在香江上方一同出现，接着便响起了江边的钢琴声，陈奕迅开麦。演奏的班底都是他的一帮老朋友。十年前，陈奕迅与他们合作举办了《DUO》演唱会，在香港红馆一连开了18场show。两年前，陈奕迅打造新专辑《L.O.V.E》时也是找了这帮人合作。出场后，陈奕迅唱的正是《L.O.V.E》的主打歌《与你常在》。“还有各位好知己，陪我唱歌。”他像是在与《DUO》里唱《与我常在》时的自己对话，也像是在唱隔离时期人们最怀念的亲密接触，“一班人，同偕到老不靠运气。”\n",
      "\n",
      "接着是《天使的礼物》。这是一首唱给的士司机、环卫工等都市小人物的歌，在歌里他们是支撑城市运转的“大人物”；《黄金时代》里那句“黄金广场内分手、在时代门外再聚”更是耐人寻味；《太阳照常升起》《相信你的人》走励志路线。五首歌，串起了陈奕迅从出道之初到现在的音乐轨迹，也是不同的五段世情百味。\n",
      "\n",
      "唱完“天光之际看星光”这句后，天渐渐亮了起来，维多利亚港苏醒了，街上还有路人在晨跑。早上的选歌像是在给时代佐证。“陈奕迅式情歌”里，最知名的“三大件”《十年》《好久不见》《红玫瑰》直白地唱着爱情、《K歌之王》是对“流水无情”的激烈控诉、《富士山下》则是开解人要跨过爱而不得的那座富士山，向前看。\n",
      "\n",
      "其实，陈奕迅的歌里不只有爱情。很多时候，他唱的是成年人面对的世情百态，给人在疲惫伤心之际些许安慰。《Shall We Talk》关乎亲情、《最佳损友》唱的是友情，但他音乐里的世情世界远不止这些。他称得上是香港乐坛极有包容性的歌手，音乐题材社会性十分强。例如，《黑择明》把人生比喻成导演黑泽明镜头下的一出戏，劝慰人不要轻生，陈奕迅唱“失恋也死，走去死，走去死，你母亲伤心到死，内疚未”，最后告诉你“死亡迟早都找你，切勿凭自己”。据传，作词人林夕在张国荣自杀后，想到自己写过那么多惨情歌给他唱，感到愧疚，再联系到总有香港青年跳楼自杀的社会现状，便写了这首歌，借陈奕迅的口唱了出来。《谢谢侬》里，他又化身为龙套演员，“拿着一件斗篷，扮演着一条龙”，自嘲“好莱坞是演员们的美梦”，转头又鼓励自己是“不具名的演员不管有没有观众”。\n",
      "\n",
      "那首知名的《单车》也满是心酸。作词人黄伟文写父亲，回忆起的不是多甜蜜的父爱，而是冷漠里的一抹亮色。父亲与黄伟文并不亲密，父亲的角色“从来虚位以待”，只有一次坐在父亲后座时，他才真切地体会到他人口中的父爱。在《单车》里，黄伟文更多的是控诉父爱的缺失，而不是歌颂他有多伟大。或许这首歌里父亲那沉默，不善于表达的爱的形象太有代表性了，不少人在这首歌里纷纷看到自己的童年，也像黄伟文那样渴望再坐在父亲的单车后座，“怀念单车给你我唯一有过的拥抱”。\n",
      "\n",
      "除此之外，还有唱给“卡奴”的《碌卡》，主角是酒保的《New Order》.......就连情歌，陈奕迅的音乐里也有不一样的色彩。《无人之境》是已婚男士出轨的故事，“病态三部曲”里是跟踪狂、鬼魂、兽人的爱情，在常见的道德评判中，这些都是见不得光的爱。\n",
      "\n",
      "中年人听陈奕迅的歌或许会更感同身受。《人车志》《葡萄成熟时》《陀飞轮》《沙龙》分别以车、美酒、手表、相机这四个物件来勾勒出中年生活：短暂逃离家庭生活喘口气、情场总是失意后试图豁达、年龄随着时间飞逝渐长、用菲林记录每一个纪念性的时刻......陈奕迅唱出的中年，有温情，也有疲惫与踌躇。在经历了表演受伤、被公司雪藏、父亲入狱、结婚生子等事情后，中年的陈奕迅唱起这些情感来更为细腻动人。\n",
      "\n",
      "“来到红馆那么多次，从来没有见过红馆那么寂静。”预告片里，大家跟着陈奕迅看到了空无一人的红磡体育馆。这确实令人感到陌生。以往，无论什么时候去红馆看演唱会，都是人山人海。看着全场的歌迷挥舞荧光棒，喊着“安可”，身旁同行的伙伴可能还因为某首歌哭红了双眼，自己再转头望着眼前的人群，渺小又孤独，心里想着的人和事最后还是成了一个个秘密。\n",
      "\n",
      "今天到了下午，音乐会下半场在重播完早上的内容后，在五点半左右正式开始。演唱地点从维多利亚港换到了红馆，陈奕迅与乐队面对着无人的观众台，从一首《幸灾乐祸》开始唱了起来。两首唱罢，镜头切换到馆外的风景，夕阳西下，《夕阳无限好》的前奏跟着\b响起。“多经典的歌后，一刹眼已走”致敬的是梅艳芳，而那句“风花雪月不肯等人，要献便献吻”则是一句普世的箴言。\n",
      "\n",
      "“没观众好怪......我们自己鼓掌。”唱完《后台》后，鬼马的陈奕迅还不忘给屏幕前的人鼓劲：“希望大家能用这样玩的心态来面对一切。”早在这场音乐会的预告片里，他说：“无论今天的情况变得有多坏，明天都会是新的一天。生活仍要继续，太阳照常升起。”\n",
      "\n",
      "距离陈奕迅上一次在红馆连开演唱会，已经过了7年。2013年时，他在这里连开了25场演唱会。7年之后，陈奕迅回到这里，再次献上这场从主题到表演曲目都十分暖心的一场演唱会。最后一首歌《我们万岁》从名字到歌词都足够阳光：“如万世不朽只有爱，多好。”\n",
      "\n",
      "一曲终了，这场给人打气、鼓劲的音乐会结束，但歌里的人生仍在继续，生活也是如此。\n",
      "-----------------------------------------\n",
      "\n"
     ]
    },
    {
     "name": "stderr",
     "output_type": "stream",
     "text": [
      "Loading model cost 0.655 seconds.\n",
      "Prefix dict has been built successfully.\n"
     ]
    },
    {
     "ename": "NameError",
     "evalue": "name 'stop_wordsp_words' is not defined",
     "output_type": "error",
     "traceback": [
      "\u001b[0;31m---------------------------------------------------------------------------\u001b[0m",
      "\u001b[0;31mNameError\u001b[0m                                 Traceback (most recent call last)",
      "\u001b[0;32m<ipython-input-7-a699953774f2>\u001b[0m in \u001b[0;36m<module>\u001b[0;34m\u001b[0m\n\u001b[1;32m      5\u001b[0m     \u001b[0mprint\u001b[0m\u001b[0;34m(\u001b[0m\u001b[0;34m\"-----------------------------------------\\n\"\u001b[0m\u001b[0;34m)\u001b[0m\u001b[0;34m\u001b[0m\u001b[0;34m\u001b[0m\u001b[0m\n\u001b[1;32m      6\u001b[0m \u001b[0;31m#     print(textParse(str_doc))\u001b[0m\u001b[0;34m\u001b[0m\u001b[0;34m\u001b[0m\u001b[0;34m\u001b[0m\u001b[0m\n\u001b[0;32m----> 7\u001b[0;31m     \u001b[0mword_list\u001b[0m \u001b[0;34m=\u001b[0m \u001b[0mseg_doc\u001b[0m\u001b[0;34m(\u001b[0m\u001b[0mstr_doc\u001b[0m\u001b[0;34m)\u001b[0m\u001b[0;34m\u001b[0m\u001b[0;34m\u001b[0m\u001b[0m\n\u001b[0m\u001b[1;32m      8\u001b[0m     \u001b[0mprint\u001b[0m\u001b[0;34m(\u001b[0m\u001b[0mword_list\u001b[0m\u001b[0;34m)\u001b[0m\u001b[0;34m\u001b[0m\u001b[0;34m\u001b[0m\u001b[0m\n",
      "\u001b[0;32m<ipython-input-6-4e432a3de8e4>\u001b[0m in \u001b[0;36mseg_doc\u001b[0;34m(str_doc)\u001b[0m\n\u001b[1;32m      6\u001b[0m     \u001b[0mstwlist\u001b[0m \u001b[0;34m=\u001b[0m \u001b[0mget_stop_words\u001b[0m\u001b[0;34m(\u001b[0m\u001b[0;34m)\u001b[0m\u001b[0;34m\u001b[0m\u001b[0;34m\u001b[0m\u001b[0m\n\u001b[1;32m      7\u001b[0m     \u001b[0;31m# 3.分词并去除停用词\u001b[0m\u001b[0;34m\u001b[0m\u001b[0;34m\u001b[0m\u001b[0;34m\u001b[0m\u001b[0m\n\u001b[0;32m----> 8\u001b[0;31m     \u001b[0mword_2dlist\u001b[0m \u001b[0;34m=\u001b[0m \u001b[0;34m[\u001b[0m\u001b[0mrm_tokens\u001b[0m\u001b[0;34m(\u001b[0m\u001b[0mjieba\u001b[0m\u001b[0;34m.\u001b[0m\u001b[0mcut\u001b[0m\u001b[0;34m(\u001b[0m\u001b[0mpart\u001b[0m\u001b[0;34m,\u001b[0m \u001b[0mcut_all\u001b[0m\u001b[0;34m=\u001b[0m\u001b[0;32mFalse\u001b[0m\u001b[0;34m)\u001b[0m\u001b[0;34m,\u001b[0m \u001b[0mstwlist\u001b[0m\u001b[0;34m)\u001b[0m \u001b[0;32mfor\u001b[0m \u001b[0mpart\u001b[0m \u001b[0;32min\u001b[0m \u001b[0msent_list\u001b[0m\u001b[0;34m]\u001b[0m\u001b[0;34m\u001b[0m\u001b[0;34m\u001b[0m\u001b[0m\n\u001b[0m\u001b[1;32m      9\u001b[0m     \u001b[0;31m# 4. 合并列表\u001b[0m\u001b[0;34m\u001b[0m\u001b[0;34m\u001b[0m\u001b[0;34m\u001b[0m\u001b[0m\n\u001b[1;32m     10\u001b[0m     \u001b[0mword_list\u001b[0m \u001b[0;34m=\u001b[0m \u001b[0msum\u001b[0m\u001b[0;34m(\u001b[0m\u001b[0mword_2dlist\u001b[0m\u001b[0;34m,\u001b[0m \u001b[0;34m[\u001b[0m\u001b[0;34m]\u001b[0m\u001b[0;34m)\u001b[0m\u001b[0;34m\u001b[0m\u001b[0;34m\u001b[0m\u001b[0m\n",
      "\u001b[0;32m<ipython-input-6-4e432a3de8e4>\u001b[0m in \u001b[0;36m<listcomp>\u001b[0;34m(.0)\u001b[0m\n\u001b[1;32m      6\u001b[0m     \u001b[0mstwlist\u001b[0m \u001b[0;34m=\u001b[0m \u001b[0mget_stop_words\u001b[0m\u001b[0;34m(\u001b[0m\u001b[0;34m)\u001b[0m\u001b[0;34m\u001b[0m\u001b[0;34m\u001b[0m\u001b[0m\n\u001b[1;32m      7\u001b[0m     \u001b[0;31m# 3.分词并去除停用词\u001b[0m\u001b[0;34m\u001b[0m\u001b[0;34m\u001b[0m\u001b[0;34m\u001b[0m\u001b[0m\n\u001b[0;32m----> 8\u001b[0;31m     \u001b[0mword_2dlist\u001b[0m \u001b[0;34m=\u001b[0m \u001b[0;34m[\u001b[0m\u001b[0mrm_tokens\u001b[0m\u001b[0;34m(\u001b[0m\u001b[0mjieba\u001b[0m\u001b[0;34m.\u001b[0m\u001b[0mcut\u001b[0m\u001b[0;34m(\u001b[0m\u001b[0mpart\u001b[0m\u001b[0;34m,\u001b[0m \u001b[0mcut_all\u001b[0m\u001b[0;34m=\u001b[0m\u001b[0;32mFalse\u001b[0m\u001b[0;34m)\u001b[0m\u001b[0;34m,\u001b[0m \u001b[0mstwlist\u001b[0m\u001b[0;34m)\u001b[0m \u001b[0;32mfor\u001b[0m \u001b[0mpart\u001b[0m \u001b[0;32min\u001b[0m \u001b[0msent_list\u001b[0m\u001b[0;34m]\u001b[0m\u001b[0;34m\u001b[0m\u001b[0;34m\u001b[0m\u001b[0m\n\u001b[0m\u001b[1;32m      9\u001b[0m     \u001b[0;31m# 4. 合并列表\u001b[0m\u001b[0;34m\u001b[0m\u001b[0;34m\u001b[0m\u001b[0;34m\u001b[0m\u001b[0m\n\u001b[1;32m     10\u001b[0m     \u001b[0mword_list\u001b[0m \u001b[0;34m=\u001b[0m \u001b[0msum\u001b[0m\u001b[0;34m(\u001b[0m\u001b[0mword_2dlist\u001b[0m\u001b[0;34m,\u001b[0m \u001b[0;34m[\u001b[0m\u001b[0;34m]\u001b[0m\u001b[0;34m)\u001b[0m\u001b[0;34m\u001b[0m\u001b[0;34m\u001b[0m\u001b[0m\n",
      "\u001b[0;32m<ipython-input-5-0545e3f8a8e5>\u001b[0m in \u001b[0;36mrm_tokens\u001b[0;34m(words, stwlist)\u001b[0m\n\u001b[1;32m      4\u001b[0m     \u001b[0;32mfor\u001b[0m \u001b[0mi\u001b[0m \u001b[0;32min\u001b[0m \u001b[0mrange\u001b[0m\u001b[0;34m(\u001b[0m\u001b[0mwords_list\u001b[0m\u001b[0;34m.\u001b[0m\u001b[0m__len__\u001b[0m\u001b[0;34m(\u001b[0m\u001b[0;34m)\u001b[0m\u001b[0;34m)\u001b[0m\u001b[0;34m[\u001b[0m\u001b[0;34m:\u001b[0m\u001b[0;34m:\u001b[0m\u001b[0;34m-\u001b[0m\u001b[0;36m1\u001b[0m\u001b[0;34m]\u001b[0m\u001b[0;34m:\u001b[0m\u001b[0;34m\u001b[0m\u001b[0;34m\u001b[0m\u001b[0m\n\u001b[1;32m      5\u001b[0m         \u001b[0;31m# 去除停用词\u001b[0m\u001b[0;34m\u001b[0m\u001b[0;34m\u001b[0m\u001b[0;34m\u001b[0m\u001b[0m\n\u001b[0;32m----> 6\u001b[0;31m         \u001b[0;32mif\u001b[0m \u001b[0mwords_list\u001b[0m\u001b[0;34m[\u001b[0m\u001b[0mi\u001b[0m\u001b[0;34m]\u001b[0m \u001b[0;32min\u001b[0m \u001b[0mstop_wordsp_words\u001b[0m\u001b[0;34m:\u001b[0m\u001b[0;34m\u001b[0m\u001b[0;34m\u001b[0m\u001b[0m\n\u001b[0m\u001b[1;32m      7\u001b[0m             \u001b[0mwords_list\u001b[0m\u001b[0;34m.\u001b[0m\u001b[0mpop\u001b[0m\u001b[0;34m(\u001b[0m\u001b[0mi\u001b[0m\u001b[0;34m)\u001b[0m\u001b[0;34m\u001b[0m\u001b[0;34m\u001b[0m\u001b[0m\n\u001b[1;32m      8\u001b[0m         \u001b[0;31m# 去除数字\u001b[0m\u001b[0;34m\u001b[0m\u001b[0;34m\u001b[0m\u001b[0;34m\u001b[0m\u001b[0m\n",
      "\u001b[0;31mNameError\u001b[0m: name 'stop_wordsp_words' is not defined"
     ]
    }
   ],
   "source": [
    "if __name__ == '__main__':\n",
    "    path = r'./从日出到日落，陈奕迅唱的不只是爱情 从日出到日落，陈奕迅唱的不只是爱情.txt'\n",
    "    str_doc = readFile(path)\n",
    "    print(str_doc)\n",
    "    print(\"-----------------------------------------\\n\")\n",
    "#     print(textParse(str_doc))\n",
    "    word_list = seg_doc(str_doc)\n",
    "    print(word_list)"
   ]
  },
  {
   "cell_type": "code",
   "execution_count": null,
   "metadata": {},
   "outputs": [],
   "source": []
  }
 ],
 "metadata": {
  "kernelspec": {
   "display_name": "Python 3",
   "language": "python",
   "name": "python3"
  },
  "language_info": {
   "codemirror_mode": {
    "name": "ipython",
    "version": 3
   },
   "file_extension": ".py",
   "mimetype": "text/x-python",
   "name": "python",
   "nbconvert_exporter": "python",
   "pygments_lexer": "ipython3",
   "version": "3.7.6"
  }
 },
 "nbformat": 4,
 "nbformat_minor": 4
}
