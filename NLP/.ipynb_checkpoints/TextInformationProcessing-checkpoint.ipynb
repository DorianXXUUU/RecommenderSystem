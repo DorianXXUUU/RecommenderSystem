{
 "cells": [
  {
   "cell_type": "code",
   "execution_count": 1,
   "metadata": {},
   "outputs": [
    {
     "data": {
      "text/plain": [
       "'\\nDescription: 30万条新闻文本%who据清洗及处理\\nAuthor: Deyan\\nPrompt: code in python3, anaconda\\n'"
      ]
     },
     "execution_count": 1,
     "metadata": {},
     "output_type": "execute_result"
    }
   ],
   "source": [
    "# coding:utf8\n",
    "\n",
    "\"\"\"\n",
    "Description: 30万条新闻文本%who据清洗及处理\n",
    "Author: Deyan\n",
    "Prompt: code in python3, anaconda\n",
    "\"\"\""
   ]
  },
  {
   "cell_type": "code",
   "execution_count": 2,
   "metadata": {},
   "outputs": [],
   "source": [
    "from universalMethod import *\n",
    "import os, time"
   ]
  },
  {
   "cell_type": "code",
   "execution_count": 5,
   "metadata": {},
   "outputs": [],
   "source": [
    "class loadFolders(object):\n",
    "    def __init__(self, par_path):\n",
    "        self.par_path = par_path\n",
    "    def __iter__(self): # 迭代器\n",
    "        for file in os.listdir(self.par_path):\n",
    "            file_absPath = os.path.join(self.par_path, file)\n",
    "            if os.path.isdir(file_absPath):\n",
    "                yield file_absPath\n",
    "\n",
    "class loadFiles(object):\n",
    "    def __init__(self, par_path):\n",
    "        self.par_path = par_path\n",
    "    def __iter__(self):\n",
    "        forlders = loadFoldersd(self.par_path)\n",
    "        # level directory \n",
    "        for folder in forlders:\n",
    "            catg = folder.split(os.sep)[-1]\n",
    "            # secondary directory\n",
    "            for file in os.isdir(folder):\n",
    "                file_path = os.path.join(folder, file)\n",
    "                if os.path.isfile(file_pathe):\n",
    "                    this_file = open(file_path, 'rb')\n",
    "                    content = this_file.read().decode('utf8')\n",
    "                    yield catg, content\n",
    "                    this_file.close()"
   ]
  },
  {
   "cell_type": "code",
   "execution_count": 6,
   "metadata": {},
   "outputs": [
    {
     "name": "stdout",
     "output_type": "stream",
     "text": [
      "total time: 0.00 s\n"
     ]
    }
   ],
   "source": [
    "if __name__ == '__main__':\n",
    "    startTime = time.time()\n",
    "    \n",
    "    filePath = os.path.abspath(r'../CSCMNews')\n",
    "\n",
    "    \n",
    "    endTime = time.time()\n",
    "    print('total time: %.2f' %(endTime - startTime) + ' s')"
   ]
  },
  {
   "cell_type": "code",
   "execution_count": null,
   "metadata": {},
   "outputs": [],
   "source": []
  }
 ],
 "metadata": {
  "kernelspec": {
   "display_name": "Python 3",
   "language": "python",
   "name": "python3"
  },
  "language_info": {
   "codemirror_mode": {
    "name": "ipython",
    "version": 3
   },
   "file_extension": ".py",
   "mimetype": "text/x-python",
   "name": "python",
   "nbconvert_exporter": "python",
   "pygments_lexer": "ipython3",
   "version": "3.7.6"
  },
  "toc": {
   "base_numbering": 1,
   "nav_menu": {},
   "number_sections": true,
   "sideBar": true,
   "skip_h1_title": false,
   "title_cell": "Table of Contents",
   "title_sidebar": "Contents",
   "toc_cell": false,
   "toc_position": {},
   "toc_section_display": true,
   "toc_window_display": false
  },
  "varInspector": {
   "cols": {
    "lenName": 16,
    "lenType": 16,
    "lenVar": 40
   },
   "kernels_config": {
    "python": {
     "delete_cmd_postfix": "",
     "delete_cmd_prefix": "del ",
     "library": "var_list.py",
     "varRefreshCmd": "print(var_dic_list())"
    },
    "r": {
     "delete_cmd_postfix": ") ",
     "delete_cmd_prefix": "rm(",
     "library": "var_list.r",
     "varRefreshCmd": "cat(var_dic_list()) "
    }
   },
   "types_to_exclude": [
    "module",
    "function",
    "builtin_function_or_method",
    "instance",
    "_Feature"
   ],
   "window_display": false
  }
 },
 "nbformat": 4,
 "nbformat_minor": 4
}
