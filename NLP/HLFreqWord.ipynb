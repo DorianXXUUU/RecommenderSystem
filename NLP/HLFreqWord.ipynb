{
 "cells": [
  {
   "cell_type": "code",
   "execution_count": 42,
   "metadata": {},
   "outputs": [],
   "source": [
    "import re\n",
    "import jieba\n",
    "import sys\n",
    "import matplotlib\n",
    "from nltk import *\n",
    "from matplotlib import rcParams\n",
    "from matplotlib.font_manager import findfont, FontProperties, _rebuild\n",
    "from universalMethod import *\n",
    "\n",
    "# 读取文本信息\n",
    "def readFile(path):\n",
    "    str_doc = \"\"\n",
    "    with open(path, 'r', encoding='utf-8') as f:\n",
    "        str_doc = f.read()\n",
    "    return str_doc\n",
    "\n",
    "# 正则对字符串清洗\n",
    "def textParse(str_doc):\n",
    "    # 去掉字符\n",
    "    str_doc = re.sub('\\u3000', '', str_doc)\n",
    "    # 去除空格\n",
    "    str_doc = re.sub('\\s+', ' ', str_doc)\n",
    "    # 去除换行符\n",
    "    str_doc= re.sub('[a-zA-Z0-9’!\"#$%&\\'()*+,-./:;<=>?@，。?★、…【】《》？“”‘’！[\\\\]^_`{|}~\\s]+', \" \", str_doc)\n",
    "    # 正则过滤掉特殊符号,标点,英文,数字...\n",
    "    r1 = '[a-zA-Z0-9]+'\n",
    "    str_doc = re.sub(r1, \"\", str_doc)\n",
    "    return str_doc\n",
    "\n",
    "def get_stop_words(path=r'./停用词.txt'):\n",
    "    file = open(path, 'r', encoding='utf-8').read().split('\\n')\n",
    "    return set(file)\n",
    "\n",
    "def rm_tokens(words, stwlist):\n",
    "    words_list = list(words)\n",
    "    stop_words = stwlist\n",
    "    for i in range(words_list.__len__())[::-1]:\n",
    "        # 去除停用词\n",
    "        if words_list[i] in stop_words:\n",
    "            words_list.pop(i)\n",
    "        # 去除数字\n",
    "        elif words_list[i].isdigit():\n",
    "            words_list.pop(i)\n",
    "        # 去除单个字符\n",
    "        elif len(words_list[i]) == 1:\n",
    "            words_list.pop(i)\n",
    "        # 去除空格\n",
    "        elif words_list[i] == \" \":\n",
    "            words_list.pop(i)\n",
    "    return words_list\n",
    "\n",
    "def seg_doc(str_doc):\n",
    "    # 1.处理原文本\n",
    "    sent_list = str_doc.split('\\n')\n",
    "    sent_list = map(textParse, sent_list)\n",
    "    # 2.获取停用词\n",
    "    stwlist = get_stop_words()\n",
    "    # 3.分词并去除停用词\n",
    "    word_2dlist = [rm_tokens(jieba.cut(part, cut_all=False), stwlist) for part in sent_list]\n",
    "    # 4. 合并列表\n",
    "    word_list = sum(word_2dlist, [])\n",
    "#     print(sent_list)\n",
    "    return word_list\n",
    "\n",
    "def nltk_wf_feature(word_list=None):\n",
    "    # 方法一: 得到的关键词和词频不是一一对应的\n",
    "    fdist = FreqDist(word_list)\n",
    "#     print(fdist.keys(), \"\\n\", fdist.values(), \"\\n\")\n",
    "    \n",
    "    # 查看指定词语词频\n",
    "    w = \"陈奕迅\"\n",
    "    print(w, \"Frequency: \", fdist.freq(w))\n",
    "    print(w, \"Num of app: \", fdist[w])\n",
    "    \n",
    "    # 频率分布表\n",
    "    print('='*3, \"频率分布表\", '='*3)\n",
    "    fdist.tabulate(10)\n",
    "    \n",
    "    print('='*3, \"频率分布图\", '='*3)\n",
    "    fdist.plot(30)\n",
    "    \n",
    "    return fdist\n",
    "    \n",
    "    # 解决中文显示问题\n",
    "    # 1.查看当前字体\n",
    "    # 2.更换字体库\n",
    "\n",
    "def nltk_wf_feature2(word_list=None):\n",
    "    # 方法二: \n",
    "    from collections import Counter\n",
    "    words = Counter(word_list)\n",
    "    print(words.keys(), \"\\n\", words.values())\n",
    "    print(\"------根据字符长度------\")\n",
    "    wlist = [w for w in words if len(w) > 2]\n",
    "    print(wlist)\n",
    "    \n",
    "def hl_freqWord(fdist):\n",
    "    wordList = []\n",
    "    print('='*3, '打印统计的词频', '='*3)\n",
    "    for key in fdist.keys():\n",
    "        if fdist.get(key) > 2 and fdist.get(key) < 20:\n",
    "            wordList.append(key + \":\" + str(fdist.get(key)))\n",
    "    return wordList\n",
    "    "
   ]
  },
  {
   "cell_type": "code",
   "execution_count": 43,
   "metadata": {},
   "outputs": [
    {
     "name": "stdout",
     "output_type": "stream",
     "text": [
      "陈奕迅 Frequency:  0.02768729641693811\n",
      "陈奕迅 Num of app:  17\n",
      "=== 频率分布表 ===\n",
      "陈奕迅  父亲 音乐会  音乐  红馆  香港 演唱会  首歌  中年  单车 \n",
      " 17   7   6   6   6   5   5   5   4   4 \n",
      "=== 频率分布图 ===\n"
     ]
    },
    {
     "data": {
      "image/png": "[encoded data removed]",
      "text/plain": [
       "<Figure size 432x288 with 1 Axes>"
      ]
     },
     "metadata": {
      "needs_background": "light"
     },
     "output_type": "display_data"
    },
    {
     "name": "stdout",
     "output_type": "stream",
     "text": [
      "=== 打印统计的词频 ===\n",
      "['中年:4', '陈奕:3', '音乐会:6', '时间:3', '早上:3', '香港:5', '演出:3', '音乐:6', '陈奕迅:17', '演唱会:5', '红馆:6', '像是:3', '歌里:3', '首歌:5', '世情:3', '情歌:3', '爱情:3', '面对:3', '最后:3', '演员:3', '单车:4', '黄伟文:4', '父亲:7', '父爱:3', '生活:4', '这场:3']\n"
     ]
    }
   ],
   "source": [
    "if __name__ == '__main__':\n",
    "    # 1.read file\n",
    "    path = r'./从日出到日落，陈奕迅唱的不只是爱情 从日出到日落，陈奕迅唱的不只是爱情.txt'\n",
    "    str_doc = readFile(path)\n",
    "    word_list = seg_doc(str_doc)\n",
    "#     print(word_list)\n",
    "    # 2.选择高低词频\n",
    "    fdist = nltk_wf_feature(word_list)\n",
    "    wordList = hl_freqWord(fdist)\n",
    "    print(wordList)"
   ]
  },
  {
   "cell_type": "code",
   "execution_count": null,
   "metadata": {},
   "outputs": [],
   "source": []
  }
 ],
 "metadata": {
  "kernelspec": {
   "display_name": "Python 3",
   "language": "python",
   "name": "python3"
  },
  "language_info": {
   "codemirror_mode": {
    "name": "ipython",
    "version": 3
   },
   "file_extension": ".py",
   "mimetype": "text/x-python",
   "name": "python",
   "nbconvert_exporter": "python",
   "pygments_lexer": "ipython3",
   "version": "3.7.6"
  },
  "toc": {
   "base_numbering": 1,
   "nav_menu": {},
   "number_sections": true,
   "sideBar": true,
   "skip_h1_title": false,
   "title_cell": "Table of Contents",
   "title_sidebar": "Contents",
   "toc_cell": false,
   "toc_position": {},
   "toc_section_display": true,
   "toc_window_display": false
  },
  "varInspector": {
   "cols": {
    "lenName": 16,
    "lenType": 16,
    "lenVar": 40
   },
   "kernels_config": {
    "python": {
     "delete_cmd_postfix": "",
     "delete_cmd_prefix": "del ",
     "library": "var_list.py",
     "varRefreshCmd": "print(var_dic_list())"
    },
    "r": {
     "delete_cmd_postfix": ") ",
     "delete_cmd_prefix": "rm(",
     "library": "var_list.r",
     "varRefreshCmd": "cat(var_dic_list()) "
    }
   },
   "types_to_exclude": [
    "module",
    "function",
    "builtin_function_or_method",
    "instance",
    "_Feature"
   ],
   "window_display": false
  }
 },
 "nbformat": 4,
 "nbformat_minor": 4
}
