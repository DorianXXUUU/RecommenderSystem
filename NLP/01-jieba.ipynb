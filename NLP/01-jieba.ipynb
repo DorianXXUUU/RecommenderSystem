{
 "cells": [
  {
   "cell_type": "code",
   "execution_count": 19,
   "metadata": {},
   "outputs": [],
   "source": [
    "import jieba"
   ]
  },
  {
   "cell_type": "code",
   "execution_count": 20,
   "metadata": {},
   "outputs": [
    {
     "name": "stderr",
     "output_type": "stream",
     "text": [
      "Paddle enabled successfully......\n"
     ]
    }
   ],
   "source": [
    "jieba.enable_paddle()"
   ]
  },
  {
   "cell_type": "code",
   "execution_count": 21,
   "metadata": {},
   "outputs": [],
   "source": [
    "strs = [\"2020 年各地的高考语文作文题有哪些亮点与信息量\", \"如何看待美国出台新法，2020年秋季上全网课留学生不得入境，境内留学生需转学或离境？\"]"
   ]
  },
  {
   "cell_type": "code",
   "execution_count": 22,
   "metadata": {},
   "outputs": [
    {
     "name": "stdout",
     "output_type": "stream",
     "text": [
      "Paddle Mode: 2020 年/各地/的/高考/语文/作文/题/有/哪些/亮点/与/信息量\n",
      "Paddle Mode: 如何/看待/美国/出台/新法/，/2020年/秋季/上/全/网课/留学生/不得/入境/，/境内/留学生/需/转学/或/离境？\n"
     ]
    }
   ],
   "source": [
    "for str in strs:\n",
    "    seg_list = jieba.cut(str, use_paddle=True)\n",
    "    print(\"Paddle Mode: \" + '/'.join(list(seg_list)))\n"
   ]
  },
  {
   "cell_type": "code",
   "execution_count": 12,
   "metadata": {
    "scrolled": true
   },
   "outputs": [
    {
     "name": "stdout",
     "output_type": "stream",
     "text": [
      "Full Mode: 2020/ /  / / apple/ /  / / asd/ /  / / asodaow/ /  / / dq/ /  / / doq/ /  / /  / / as/ /  / / daod/ /  / / a/ /  / / 年/ 各地/ 的/ 高考/ 考语/ 语文/ 作文/ 作文题/ 有/ 哪些/ 亮点/ 与/ 信息/ 信息量\n"
     ]
    }
   ],
   "source": [
    "# 全模式\n",
    "seg_list = jieba.cut(\"2020 apple asd asodaow dq doq  as daod a 年各地的高考语文作文题有哪些亮点与信息量\", cut_all=True)\n",
    "print(\"Full Mode: \" + \"/ \".join(seg_list))"
   ]
  },
  {
   "cell_type": "code",
   "execution_count": 6,
   "metadata": {},
   "outputs": [
    {
     "name": "stdout",
     "output_type": "stream",
     "text": [
      "Default Mode: 2020/  / 年/ 各地/ 的/ 高考/ 语文/ 作文题/ 有/ 哪些/ 亮点/ 与/ 信息量\n"
     ]
    }
   ],
   "source": [
    "# 精确模式\n",
    "seg_list = jieba.cut(\"2020 年各地的高考语文作文题有哪些亮点与信息量\", cut_all=False)\n",
    "print(\"Default Mode: \" + \"/ \".join(seg_list))"
   ]
  },
  {
   "cell_type": "code",
   "execution_count": 8,
   "metadata": {},
   "outputs": [
    {
     "name": "stdout",
     "output_type": "stream",
     "text": [
      "2020/  / 年/ 各地/ 的/ 高考/ 语文/ 作文题/ 有/ 哪些/ 亮点/ 与/ 信息量\n"
     ]
    }
   ],
   "source": [
    "seg_list = jieba.cut(\"2020 年各地的高考语文作文题有哪些亮点与信息量\")  # 默认是精确模式\n",
    "print(\"/ \".join(seg_list))"
   ]
  },
  {
   "cell_type": "code",
   "execution_count": 9,
   "metadata": {},
   "outputs": [
    {
     "name": "stdout",
     "output_type": "stream",
     "text": [
      "处理/ 编码/ 问题/ 。/ 没错/ ，/ 即使/ 是/ 英文/ 也/ 需要/ 处理/ 编码/ 问题/ ！/ 由于/  / Python2/  / 的/ 历史/ 原因/ ，/ 不得不/ 在/ 编程/ 的/ 时候/ 自己/ 处理/ 。/ 英文/ 也/ 存在/  / unicode/  / 和/  / utf/ -/ 8/  / 转换/ 的/ 问题/ ，/ 中文/ 以及/ 其他/ 语言/ 就/ 更/ 不用/ 提了/ 。/ 这里/ 有/ 一个/ 讨论/ ，/ 可以/ 参考/ ，/ 当然/ 网上/ 也/ 有/ 很多/ 方案/ ，/ 找到/ 一个/ 适用/ 于/ 自己/ 的/ 最好\n"
     ]
    }
   ],
   "source": [
    "seg_list = jieba.cut(\"处理编码问题。没错，即使是英文也需要处理编码问题！由于 Python2 的历史原因，不得不在编程的时候自己处理。英文也存在 unicode 和 utf-8 转换的问题，中文以及其他语言就更不用提了。这里有一个讨论，可以参考，当然网上也有很多方案，找到一个适用于自己的最好\")\n",
    "print(\"/ \".join(seg_list))"
   ]
  },
  {
   "cell_type": "code",
   "execution_count": 11,
   "metadata": {},
   "outputs": [
    {
     "name": "stdout",
     "output_type": "stream",
     "text": [
      "apple/  / asd/  / asodaow/  / dq/  / doq/  /  / as/  / daod/  / a/ 处理/ 编码/ 问题/ 。/ 没错/ ，/ 即使/ 是/ 英文/ 也/ 需要/ 处理/ 编码/ 问题/ ！/ 由于/  / Python2/  / 的/ 历史/ 原因/ ，/ 不得/ 不得不/ 在/ 编程/ 的/ 时候/ 自己/ 处理/ 。/ 英文/ 也/ 存在/  / unicode/  / 和/  / utf/ -/ 8/  / 转换/ 的/ 问题/ ，/ 中文/ 以及/ 其他/ 语言/ 就/ 更/ 不用/ 提了/ 。/ 这里/ 有/ 一个/ 讨论/ ，/ 可以/ 参考/ ，/ 当然/ 网上/ 也/ 有/ 很多/ 方案/ ，/ 找到/ 一个/ 适用/ 于/ 自己/ 的/ 最好\n"
     ]
    }
   ],
   "source": [
    "seg_list = jieba.cut_for_search(\"apple asd asodaow dq doq  as daod a处理编码问题。没错，即使是英文也需要处理编码问题！由于 Python2 的历史原因，不得不在编程的时候自己处理。英文也存在 unicode 和 utf-8 转换的问题，中文以及其他语言就更不用提了。这里有一个讨论，可以参考，当然网上也有很多方案，找到一个适用于自己的最好\")  # 搜索引擎模式\n",
    "print(\"/ \".join(seg_list))"
   ]
  },
  {
   "cell_type": "code",
   "execution_count": null,
   "metadata": {},
   "outputs": [],
   "source": []
  }
 ],
 "metadata": {
  "kernelspec": {
   "display_name": "Python 3",
   "language": "python",
   "name": "python3"
  },
  "language_info": {
   "codemirror_mode": {
    "name": "ipython",
    "version": 3
   },
   "file_extension": ".py",
   "mimetype": "text/x-python",
   "name": "python",
   "nbconvert_exporter": "python",
   "pygments_lexer": "ipython3",
   "version": "3.7.4"
  }
 },
 "nbformat": 4,
 "nbformat_minor": 4
}
