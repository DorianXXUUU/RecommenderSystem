{
 "cells": [
  {
   "cell_type": "code",
   "execution_count": 16,
   "metadata": {},
   "outputs": [],
   "source": [
    "import re\n",
    "import jieba\n",
    "import sys\n",
    "import matplotlib\n",
    "from nltk import *\n",
    "from matplotlib import rcParams\n",
    "from matplotlib.font_manager import findfont, FontProperties, _rebuild\n",
    "from universalMethod import *\n",
    "\n",
    "# 读取文本信息\n",
    "def readFile(path):\n",
    "    str_doc = \"\"\n",
    "    with open(path, 'r', encoding='utf-8') as f:\n",
    "        str_doc = f.read()\n",
    "    return str_doc\n",
    "\n",
    "# 正则对字符串清洗\n",
    "def textParse(str_doc):\n",
    "    # 去掉字符\n",
    "    str_doc = re.sub('\\u3000', '', str_doc)\n",
    "    # 去除空格\n",
    "    str_doc = re.sub('\\s+', ' ', str_doc)\n",
    "    # 去除换行符等特殊符号\n",
    "    str_doc= re.sub('[a-zA-Z0-9’!\"#$%&\\'()*+,-./:;<=>?@，。?★、…【】《》？“”‘’！[\\\\]^_`{|}~\\s]+', \" \", str_doc)\n",
    "    # 正则过滤掉特殊符号,标点,英文,数字...\n",
    "    r1 = '[a-zA-Z0-9]+'\n",
    "    str_doc = re.sub(r1, \"\", str_doc)\n",
    "    return str_doc\n",
    "\n",
    "def get_stop_words(path=r'./停用词.txt'):\n",
    "    file = open(path, 'r', encoding='utf-8').read().split('\\n')\n",
    "    return set(file)\n",
    "\n",
    "def rm_tokens(words, stwlist):\n",
    "    words_list = list(words)\n",
    "    stop_words = stwlist\n",
    "    for i in range(words_list.__len__())[::-1]:\n",
    "        # 去除停用词\n",
    "        if words_list[i] in stop_words:\n",
    "            words_list.pop(i)\n",
    "        # 去除数字\n",
    "        elif words_list[i].isdigit():\n",
    "            words_list.pop(i)\n",
    "        # 去除单个字符\n",
    "        elif len(words_list[i]) == 1:\n",
    "            words_list.pop(i)\n",
    "        # 去除空格\n",
    "        elif words_list[i] == \" \":\n",
    "            words_list.pop(i)\n",
    "    return words_list\n",
    "\n",
    "def seg_doc(str_doc):\n",
    "    # 1.处理原文本\n",
    "    sent_list = str_doc.split('\\n')\n",
    "    sent_list = map(textParse, sent_list)\n",
    "    # 2.获取停用词\n",
    "    stwlist = get_stop_words()\n",
    "    # 3.分词并去除停用词\n",
    "    word_2dlist = [rm_tokens(jieba.cut(part, cut_all=False), stwlist) for part in sent_list]\n",
    "    # 4. 合并列表\n",
    "    word_list = sum(word_2dlist, [])\n",
    "#     print(sent_list)\n",
    "    return word_list\n",
    "\n",
    "def nltk_wf_feature(word_list=None):\n",
    "    # 方法一: 得到的关键词和词频不是一一对应的\n",
    "    fdist = FreqDist(word_list)\n",
    "    print(fdist.keys(), \"\\n\", fdist.values(), \"\\n\")\n",
    "    \n",
    "    # 查看指定词语词频\n",
    "    w = \"陈奕迅\"\n",
    "    print(w, \"Frequency: \", fdist.freq(w))\n",
    "    print(w, \"Num of app: \", fdist[w])\n",
    "    \n",
    "    # 频率分布表\n",
    "    print('='*3, \"频率分布表\", '='*3)\n",
    "    fdist.tabulate(10)\n",
    "    \n",
    "    print('='*3, \"频率分布图\", '='*3)\n",
    "    fdist.plot(30)\n",
    "    \n",
    "    return fdist\n",
    "    \n",
    "    # 解决中文显示问题\n",
    "    # 1.查看当前字体\n",
    "    # 2.更换字体库\n",
    "\n",
    "def nltk_wf_feature2(word_list=None):\n",
    "    # 方法二: \n",
    "    from collections import Counter\n",
    "    words = Counter(word_list)\n",
    "    print(words.keys(), \"\\n\", words.values())\n",
    "    print(\"------根据字符长度------\")\n",
    "    wlist = [w for w in words if len(w) > 2]\n",
    "    print(wlist)\n",
    "    \n",
    "def hl_freqWord(fdist):\n",
    "    wordList = []\n",
    "    print('='*3, '打印统计的词频', '='*3)\n",
    "    for key in fdist.keys():\n",
    "        if fdist.get(key) > 2 and fdist.get(key) < 20:\n",
    "            wordList.append(key + \":\" + str(fdist.get(key)))\n",
    "    return wordList\n",
    "    "
   ]
  },
  {
   "cell_type": "code",
   "execution_count": 18,
   "metadata": {},
   "outputs": [
    {
     "name": "stdout",
     "output_type": "stream",
     "text": [
      "dict_keys(['一起', '破晓', '天光', '黄昏', '日暮', '中年', '陈奕', '迅玩起', '浪漫', '拿手', '微博', '宣布', '举行', '一场', '线上', '慈善', '音乐会', '时间', '定为', '早上', '傍晚', '恰好', '日出', '日落', '不由得', '想起', '理查德', '克莱特', '执导', '系列', '电影', '黎明', '这是', '香港', '现场', '演出', '制作', '行业协会', '疫情', '期间', '第一场', '半年', '活动', '叫停', '音乐', '没有', '机会', '陈奕迅', '开唱', '部分', '协会', '筹款', '筹集', '港币', '一同', '捐给', '难关', '今早', '身边', '歌迷', '朋友', '早早', '定好', '闹钟', '点钟', '看起', '上半场', '可惜', '期待', '直播', '天气', '不佳', '团队', '改用', '昨天', '同一', '时刻', '演唱', '片段', '冥冥之中', '岁月', '如歌', '预期', '总要', '维多利亚', '港湾', '沉睡', '晨曦', '密云', '香江', '上方', '出现', '响起', '江边', '钢琴', '开麦', '演奏', '班底', '一帮', '老朋友', '十年', '合作', '举办', '演唱会', '红馆', '一连', '两年', '打造', '新专辑', '这帮', '出场', '主打', '知己', '唱歌', '像是', '我常', '对话', '隔离', '时期', '怀念', '亲密', '接触', '一班人', '同偕到', '不靠', '运气', '天使', '礼物', '一首', '的士', '司机', '环卫工', '都市', '小人物', '歌里', '支撑', '城市', '运转', '大人物', '黄金时代', '那句', '黄金', '广场', '分手', '时代', '门外', '再聚', '更是', '耐人寻味', '太阳', '照常', '升起', '相信', '励志', '路线', '首歌', '串起', '出道', '现在', '轨迹', '不同', '五段', '世情', '百味', '之际', '星光', '这句', '渐渐', '起来', '维多利亚港', '苏醒', '街上', '路人', '选歌', '佐证', '迅式', '情歌', '知名', '大件', '好久不见', '红玫瑰', '直白', '地唱', '爱情', '歌之王', '流水无情', '激烈', '控诉', '富士山', '开解', '人要', '跨过', '那座', '向前', '其实', '很多', '成年人', '面对', '百态', '疲惫', '伤心', '些许', '安慰', '关乎', '亲情', '最佳', '损友', '友情', '世界', '远不止', '称得上', '乐坛', '极有', '包容性', '歌手', '题材', '社会性', '十分', '黑择明', '人生', '比喻', '导演', '黑泽明', '镜头', '一出戏', '劝慰', '不要', '轻生', '失恋', '母亲', '内疚', '最后', '告诉', '死亡', '迟早', '切勿', '据传', '作词', '人林夕', '张国荣', '自杀', '想到', '写过', '多惨', '感到', '愧疚', '联系', '总有', '青年', '跳楼自杀', '社会现状', '谢谢', '化身为', '龙套', '演员', '一件', '斗篷', '扮演着', '一条龙', '自嘲', '好莱坞', '美梦', '转头', '鼓励', '具名', '有没有', '观众', '那首', '单车', '心酸', '黄伟文', '父亲', '回忆起', '甜蜜', '父爱', '冷漠', '一抹', '亮色', '角色', '从来', '虚位以待', '一次', '坐在', '后座', '真切', '体会', '人口', '缺失', '歌颂', '伟大', '或许', '沉默', '善于', '表达', '形象', '太有', '代表性', '不少', '纷纷', '看到', '童年', '渴望', '唯一', '有过', '拥抱', '卡奴', '主角', '酒保', '色彩', '无人之境', '已婚', '男士', '出轨', '故事', '病态', '三部曲', '跟踪', '鬼魂', '常见', '道德', '评判', '中年人', '感同身受', '人车志', '葡萄', '成熟', '飞轮', '沙龙', '以车', '美酒', '手表', '相机', '四个', '物件', '勾勒', '生活', '短暂', '逃离', '家庭', '口气', '情场', '总是', '失意', '试图', '豁达', '年龄', '飞逝', '渐长', '菲林', '记录', '一个', '纪念性', '迅唱出', '温情', '踌躇', '经历', '表演', '受伤', '公司', '雪藏', '入狱', '结婚', '生子', '事情', '唱起', '情感', '更为', '细腻', '动人', '来到', '多次', '见过', '寂静', '预告片', '跟着', '空无一人', '体育馆', '确实', '令人', '陌生', '以往', '人山人海', '看着', '全场', '挥舞', '荧光棒', '身旁', '同行', '伙伴', '可能', '双眼', '眼前', '人群', '渺小', '孤独', '心里', '想着', '人和事', '一个个', '秘密', '今天', '下午', '下半场', '重播', '内容', '五点', '半左右', '正式', '地点', '换到', '乐队', '无人', '观众台', '幸灾乐祸', '两首', '切换', '馆外', '风景', '夕阳西下', '夕阳', '无限', '前奏', '经典', '歌后', '一刹', '眼已', '致敬', '梅艳芳', '风花雪月', '不肯', '要献', '一句', '普世', '箴言', '好怪', '鼓掌', '后台', '鬼马', '屏幕', '鼓劲', '希望', '心态', '这场', '情况', '变得', '有多坏', '明天', '一天', '继续', '距离', '连开', '已经', '之后', '回到', '再次', '献上', '主题', '曲目', '暖心', '一首歌', '万岁', '名字', '歌词', '足够', '阳光', '万世', '不朽', '多好', '曲终', '打气', '结束']) \n",
      " dict_values([1, 2, 2, 2, 1, 4, 3, 1, 1, 1, 1, 1, 2, 2, 1, 2, 6, 3, 1, 3, 1, 2, 1, 2, 1, 1, 1, 1, 1, 1, 1, 1, 2, 5, 1, 3, 1, 1, 1, 1, 1, 1, 1, 1, 6, 2, 1, 17, 1, 1, 1, 1, 1, 1, 2, 1, 1, 1, 1, 2, 1, 1, 1, 1, 1, 1, 1, 1, 1, 1, 2, 1, 1, 1, 1, 1, 2, 2, 1, 1, 1, 1, 1, 1, 1, 1, 1, 1, 1, 1, 1, 1, 2, 1, 1, 1, 1, 1, 1, 1, 2, 2, 1, 5, 6, 1, 1, 1, 1, 1, 1, 1, 1, 1, 3, 1, 1, 1, 1, 2, 2, 1, 1, 1, 1, 1, 1, 1, 2, 1, 1, 1, 1, 1, 3, 1, 1, 1, 1, 1, 2, 1, 1, 1, 2, 1, 1, 1, 1, 2, 2, 2, 1, 1, 1, 5, 1, 1, 1, 1, 1, 1, 3, 1, 2, 1, 1, 1, 2, 2, 1, 1, 1, 1, 1, 1, 3, 2, 1, 1, 1, 1, 1, 3, 1, 1, 1, 2, 2, 1, 1, 1, 1, 1, 1, 1, 1, 3, 1, 2, 2, 1, 1, 1, 1, 1, 1, 1, 1, 1, 1, 1, 1, 1, 1, 1, 1, 2, 1, 2, 1, 1, 1, 2, 1, 1, 1, 1, 1, 1, 1, 3, 1, 1, 1, 1, 1, 2, 1, 1, 1, 1, 1, 1, 2, 1, 1, 1, 1, 1, 1, 1, 1, 1, 3, 1, 1, 1, 1, 1, 1, 1, 2, 1, 1, 1, 2, 1, 4, 1, 4, 7, 1, 1, 3, 1, 1, 1, 1, 2, 1, 2, 2, 2, 1, 1, 1, 1, 1, 1, 2, 1, 1, 1, 1, 1, 1, 1, 1, 2, 1, 1, 1, 1, 1, 1, 1, 1, 1, 1, 1, 1, 1, 1, 1, 1, 1, 1, 1, 1, 1, 1, 1, 1, 1, 1, 1, 1, 1, 1, 1, 1, 1, 1, 1, 4, 1, 1, 1, 1, 1, 1, 1, 1, 1, 1, 1, 1, 1, 1, 1, 1, 1, 1, 1, 1, 2, 1, 1, 1, 1, 1, 1, 1, 1, 1, 1, 1, 1, 1, 1, 1, 1, 2, 2, 1, 1, 1, 1, 1, 1, 1, 1, 1, 1, 1, 1, 1, 1, 1, 1, 1, 1, 1, 1, 1, 1, 1, 1, 1, 2, 1, 1, 1, 1, 1, 1, 1, 1, 1, 1, 1, 1, 1, 1, 1, 1, 1, 1, 1, 1, 1, 1, 1, 1, 1, 1, 1, 1, 1, 1, 1, 1, 1, 1, 1, 1, 1, 1, 2, 1, 1, 3, 1, 1, 1, 1, 1, 2, 1, 2, 1, 1, 1, 1, 1, 1, 1, 1, 1, 1, 1, 1, 1, 1, 1, 1, 1, 1, 1, 1]) \n",
      "\n",
      "陈奕迅 Frequency:  0.02768729641693811\n",
      "陈奕迅 Num of app:  17\n",
      "=== 频率分布表 ===\n",
      "陈奕迅  父亲 音乐会  音乐  红馆  香港 演唱会  首歌  中年  单车 \n",
      " 17   7   6   6   6   5   5   5   4   4 \n",
      "=== 频率分布图 ===\n"
     ]
    },
    {
     "data": {
      "image/png": "[encoded data removed]",
      "text/plain": [
       "<Figure size 432x288 with 1 Axes>"
      ]
     },
     "metadata": {
      "needs_background": "light"
     },
     "output_type": "display_data"
    },
    {
     "name": "stdout",
     "output_type": "stream",
     "text": [
      "=== 打印统计的词频 ===\n",
      "['中年:4', '陈奕:3', '音乐会:6', '时间:3', '早上:3', '香港:5', '演出:3', '音乐:6', '陈奕迅:17', '演唱会:5', '红馆:6', '像是:3', '歌里:3', '首歌:5', '世情:3', '情歌:3', '爱情:3', '面对:3', '最后:3', '演员:3', '单车:4', '黄伟文:4', '父亲:7', '父爱:3', '生活:4', '这场:3']\n"
     ]
    }
   ],
   "source": [
    "# if __name__ == '__main__':\n",
    "\n",
    "# 1.read file\n",
    "path = r'./从日出到日落，陈奕迅唱的不只是爱情 从日出到日落，陈奕迅唱的不只是爱情.txt'\n",
    "str_doc = readFile(path)\n",
    "word_list = seg_doc(str_doc)\n",
    "# print(word_list)\n",
    "# 2.选择高低词频\n",
    "fdist = nltk_wf_feature(word_list)\n",
    "wordList = hl_freqWord(fdist)\n",
    "print(wordList)"
   ]
  },
  {
   "cell_type": "code",
   "execution_count": 12,
   "metadata": {},
   "outputs": [
    {
     "data": {
      "text/plain": [
       "FreqDist({'陈奕迅': 17, '父亲': 7, '音乐会': 6, '音乐': 6, '红馆': 6, '香港': 5, '演唱会': 5, '首歌': 5, '中年': 4, '单车': 4, ...})"
      ]
     },
     "execution_count": 12,
     "metadata": {},
     "output_type": "execute_result"
    }
   ],
   "source": [
    "fdist"
   ]
  },
  {
   "cell_type": "code",
   "execution_count": null,
   "metadata": {},
   "outputs": [],
   "source": []
  }
 ],
 "metadata": {
  "kernelspec": {
   "display_name": "Python 3",
   "language": "python",
   "name": "python3"
  },
  "language_info": {
   "codemirror_mode": {
    "name": "ipython",
    "version": 3
   },
   "file_extension": ".py",
   "mimetype": "text/x-python",
   "name": "python",
   "nbconvert_exporter": "python",
   "pygments_lexer": "ipython3",
   "version": "3.7.4"
  },
  "toc": {
   "base_numbering": 1,
   "nav_menu": {},
   "number_sections": true,
   "sideBar": true,
   "skip_h1_title": false,
   "title_cell": "Table of Contents",
   "title_sidebar": "Contents",
   "toc_cell": false,
   "toc_position": {},
   "toc_section_display": true,
   "toc_window_display": false
  },
  "varInspector": {
   "cols": {
    "lenName": 16,
    "lenType": 16,
    "lenVar": 40
   },
   "kernels_config": {
    "python": {
     "delete_cmd_postfix": "",
     "delete_cmd_prefix": "del ",
     "library": "var_list.py",
     "varRefreshCmd": "print(var_dic_list())"
    },
    "r": {
     "delete_cmd_postfix": ") ",
     "delete_cmd_prefix": "rm(",
     "library": "var_list.r",
     "varRefreshCmd": "cat(var_dic_list()) "
    }
   },
   "types_to_exclude": [
    "module",
    "function",
    "builtin_function_or_method",
    "instance",
    "_Feature"
   ],
   "window_display": false
  }
 },
 "nbformat": 4,
 "nbformat_minor": 4
}
