{
 "cells": [
  {
   "cell_type": "code",
   "execution_count": 3,
   "metadata": {},
   "outputs": [],
   "source": [
    "import jieba"
   ]
  },
  {
   "cell_type": "markdown",
   "metadata": {},
   "source": [
    "## 分词"
   ]
  },
  {
   "cell_type": "code",
   "execution_count": 83,
   "metadata": {},
   "outputs": [
    {
     "name": "stdout",
     "output_type": "stream",
     "text": [
      "7\n"
     ]
    }
   ],
   "source": [
    "# 结巴中文分词的基本操作\n",
    "# 全模式: 所有可能构成词语的无向图连接而成. 缺点: 不能解决歧义问题 例如:北京大学/北京 大学\n",
    "seg_list = jieba.cut('我来到北京的北京大学', cut_all=True)\n",
    "seg_list = list(seg_list)\n",
    "print(seg_list.__len__())\n",
    "# print(\"Full Mode:\"+','.join(seg_list))"
   ]
  },
  {
   "cell_type": "code",
   "execution_count": 73,
   "metadata": {},
   "outputs": [
    {
     "name": "stdout",
     "output_type": "stream",
     "text": [
      "我\n",
      "来到\n",
      "北京\n",
      "的\n",
      "北京\n",
      "北京大学\n",
      "大学\n",
      "Full Mode:\n"
     ]
    }
   ],
   "source": [
    "for a in seg_list:\n",
    "    print(a)\n",
    "print(\"Full Mode:\"+','.join(seg_list))"
   ]
  },
  {
   "cell_type": "code",
   "execution_count": 48,
   "metadata": {},
   "outputs": [
    {
     "name": "stdout",
     "output_type": "stream",
     "text": [
      "Default Mode:我/来到/北京/的/北京大学\n"
     ]
    }
   ],
   "source": [
    "# 精确分词模式, 适合做文本分析\n",
    "seg_list = jieba.cut('我来到北京的北京大学', cut_all=False)\n",
    "print(\"Default Mode:\"+'/'.join(seg_list))"
   ]
  },
  {
   "cell_type": "code",
   "execution_count": 32,
   "metadata": {},
   "outputs": [
    {
     "name": "stdout",
     "output_type": "stream",
     "text": [
      "Search engine Mode:我/来到/北京/的/北京/大学/北京大学\n"
     ]
    },
    {
     "data": {
      "text/plain": [
       "[]"
      ]
     },
     "execution_count": 32,
     "metadata": {},
     "output_type": "execute_result"
    }
   ],
   "source": [
    "# 搜索引擎模式, 对长词再次切分, 提高召回率\n",
    "# 该方法适用于搜索引擎构建倒排索引的分词, 粒度比较细\n",
    "seg_list = jieba.cut_for_search('我来到北京的北京大学', HMM=False)\n",
    "print(\"Search engine Mode:\"+'/'.join(seg_list))\n",
    "strList = list(seg_list)\n",
    "strList"
   ]
  },
  {
   "cell_type": "markdown",
   "metadata": {},
   "source": [
    "## 添加自定义词典/调整词典"
   ]
  },
  {
   "cell_type": "code",
   "execution_count": 5,
   "metadata": {},
   "outputs": [
    {
     "name": "stdout",
     "output_type": "stream",
     "text": [
      "原文档: \t如果/放到/数据库/中将/出错\n"
     ]
    }
   ],
   "source": [
    "print(\"原文档: \\t\" + '/'.join(jieba.cut('如果放到数据库中将出错', HMM=False)))\n",
    "# 中将不符合语义"
   ]
  },
  {
   "cell_type": "code",
   "execution_count": 6,
   "metadata": {},
   "outputs": [
    {
     "name": "stdout",
     "output_type": "stream",
     "text": [
      "494\n"
     ]
    }
   ],
   "source": [
    "# 对'中将'进行拆分\n",
    "# Signature: jieba.suggest_freq(segment, tune=False)\n",
    "# Docstring:\n",
    "# Suggest word frequency to force the characters in a word to be\n",
    "# joined or splitted.\n",
    "print(jieba.suggest_freq(('中', '将'),True))"
   ]
  },
  {
   "cell_type": "code",
   "execution_count": 7,
   "metadata": {},
   "outputs": [
    {
     "name": "stdout",
     "output_type": "stream",
     "text": [
      "改进文档: \t如果/放到/数据库/中/将/出错\n"
     ]
    }
   ],
   "source": [
    "print(\"改进文档: \\t\" + '/'.join(jieba.cut('如果放到数据库中将出错', HMM=False)))"
   ]
  },
  {
   "cell_type": "code",
   "execution_count": 8,
   "metadata": {},
   "outputs": [
    {
     "name": "stdout",
     "output_type": "stream",
     "text": [
      "\n",
      "原文档:\t[/台/中/]/正确/形式/应该/不会/被/分开\n"
     ]
    }
   ],
   "source": [
    "print('\\n原文档:\\t' + '/'.join(jieba.cut(\"[台中]正确形式应该不会被分开\")))"
   ]
  },
  {
   "cell_type": "code",
   "execution_count": 9,
   "metadata": {},
   "outputs": [
    {
     "data": {
      "text/plain": [
       "69"
      ]
     },
     "execution_count": 9,
     "metadata": {},
     "output_type": "execute_result"
    }
   ],
   "source": [
    "jieba.suggest_freq('台中', True)"
   ]
  },
  {
   "cell_type": "code",
   "execution_count": 10,
   "metadata": {},
   "outputs": [
    {
     "name": "stdout",
     "output_type": "stream",
     "text": [
      "\n",
      "原文档:\t[/台中/]/正确/形式/应该/不会/被/分开\n"
     ]
    }
   ],
   "source": [
    "print('\\n原文档:\\t' + '/'.join(jieba.cut(\"[台中]正确形式应该不会被分开\")))"
   ]
  },
  {
   "cell_type": "markdown",
   "metadata": {},
   "source": [
    "## 自定义分词词典"
   ]
  },
  {
   "cell_type": "code",
   "execution_count": 11,
   "metadata": {},
   "outputs": [],
   "source": [
    "import sys"
   ]
  },
  {
   "cell_type": "markdown",
   "metadata": {},
   "source": [
    "sys模块相关信息:https://docs.python.org/3/library/sys.html\n",
    "\n",
    "默认词库:https://github.com/fxsjy/jieba/blob/master/jieba/dict.txt?raw=true"
   ]
  },
  {
   "cell_type": "code",
   "execution_count": 16,
   "metadata": {},
   "outputs": [],
   "source": [
    "sys.path.append(\"../\")"
   ]
  },
  {
   "cell_type": "code",
   "execution_count": 17,
   "metadata": {},
   "outputs": [],
   "source": [
    "jieba.load_userdict(\"./dict.txt\")"
   ]
  },
  {
   "cell_type": "code",
   "execution_count": 18,
   "metadata": {},
   "outputs": [],
   "source": [
    "seg_list = jieba.cut(\"今天很高兴在慕课网和大家交流学习\")"
   ]
  },
  {
   "cell_type": "code",
   "execution_count": 19,
   "metadata": {},
   "outputs": [
    {
     "name": "stdout",
     "output_type": "stream",
     "text": [
      "load user defined dictionary:\n",
      "今天/很/高兴/在/慕课网/和/大家/交流学习\n"
     ]
    }
   ],
   "source": [
    "print('load user defined dictionary:\\n'\n",
    "     + \"/\".join(seg_list))"
   ]
  },
  {
   "cell_type": "markdown",
   "metadata": {},
   "source": [
    "## 基于 TF-IDF 算法的关键词抽取"
   ]
  },
  {
   "cell_type": "markdown",
   "metadata": {},
   "source": [
    "jieba.analyse.extract_tags(sentence, topK=20, withWeight=False, allowPOS=())\n",
    "\n",
    "\n",
    "    sentence 为待提取的文本\n",
    "\n",
    "\n",
    "    topK 为返回几个 TF/IDF 权重最大的关键词，默认值为 20\n",
    "\n",
    "\n",
    "    withWeight 为是否一并返回关键词权重值，默认值为 False\n",
    "\n",
    "\n",
    "    allowPOS 仅包括指定词性的词，默认值为空，即不筛选\n",
    "\n",
    "\n",
    "jieba.analyse.TFIDF(idf_path=None) 新建 TFIDF 实例，idf_path 为 IDF 频率文件"
   ]
  },
  {
   "cell_type": "code",
   "execution_count": 20,
   "metadata": {},
   "outputs": [],
   "source": [
    "str = \"近两年来AI产业已然成为新的焦点和风口，各互联网巨头都在布局人工智能，不少互联网产品经理也开始考虑转型AI产品经理，本文作者也同样在转型中。本篇文章是通过一段时间的学习归纳总结整理而成，力图通过这篇文章给各位考虑转型的产品经理们一个对AI的全局概括了解。本文分为上下两篇，此为上篇。\""
   ]
  },
  {
   "cell_type": "code",
   "execution_count": 21,
   "metadata": {},
   "outputs": [],
   "source": [
    "import jieba.analyse    "
   ]
  },
  {
   "cell_type": "code",
   "execution_count": 22,
   "metadata": {},
   "outputs": [
    {
     "name": "stdout",
     "output_type": "stream",
     "text": [
      "AI 0.6896981251673077\n",
      "转型 0.4081856316761538\n",
      "经理 0.3375721497040385\n",
      "本文 0.2940356773161538\n",
      "互联网 0.27391895208807693\n",
      "产品 0.2628955320363462\n",
      "本篇 0.2165696215846154\n",
      "考虑 0.19975097987076923\n",
      "风口 0.19544246218653846\n",
      "近两年来 0.18675044057596152\n"
     ]
    }
   ],
   "source": [
    "for x,w in jieba.analyse.extract_tags(str, 10, withWeight=True):\n",
    "    print(\"%s %s\" %(x, w))"
   ]
  },
  {
   "cell_type": "markdown",
   "metadata": {},
   "source": [
    "## 文本排名"
   ]
  },
  {
   "cell_type": "code",
   "execution_count": 23,
   "metadata": {},
   "outputs": [
    {
     "name": "stdout",
     "output_type": "stream",
     "text": [
      "产品 1.0\n",
      "转型 0.9233342226308273\n",
      "经理 0.9190085971049002\n",
      "考虑 0.782804813158604\n",
      "互联网 0.774316867980086\n",
      "整理 0.6353127825453877\n",
      "概括 0.6257676913734682\n",
      "了解 0.6190298783366395\n",
      "成为 0.5152333021023644\n",
      "总结 0.491539369836253\n"
     ]
    }
   ],
   "source": [
    "for x, w in jieba.analyse.textrank(str, 10, withWeight=True):\n",
    "    print(\"%s %s\" %(x, w))"
   ]
  },
  {
   "cell_type": "markdown",
   "metadata": {},
   "source": [
    "## 词性标注"
   ]
  },
  {
   "cell_type": "code",
   "execution_count": 29,
   "metadata": {},
   "outputs": [],
   "source": [
    "import jieba.posseg\n",
    "words = jieba.posseg.cut('我爱宁波诺丁汉大学')"
   ]
  },
  {
   "cell_type": "code",
   "execution_count": 30,
   "metadata": {},
   "outputs": [
    {
     "name": "stdout",
     "output_type": "stream",
     "text": [
      "我, r\n",
      "爱, v\n",
      "宁波, ns\n",
      "诺丁汉大学, nz\n"
     ]
    }
   ],
   "source": [
    "for word, flag in words:\n",
    "    print(\"%s, %s\" %(word, flag))"
   ]
  },
  {
   "cell_type": "markdown",
   "metadata": {},
   "source": [
    "## 返回词语在原文的起止位置"
   ]
  },
  {
   "cell_type": "markdown",
   "metadata": {},
   "source": [
    "### 默认模式"
   ]
  },
  {
   "cell_type": "code",
   "execution_count": 38,
   "metadata": {},
   "outputs": [
    {
     "name": "stdout",
     "output_type": "stream",
     "text": [
      "word 在\t\t start:0\t\t end:1\t\t\n",
      "word 宁波\t\t start:1\t\t end:3\t\t\n",
      "word 的\t\t start:3\t\t end:4\t\t\n",
      "word 宁波\t\t start:4\t\t end:6\t\t\n",
      "word 聚像\t\t start:6\t\t end:8\t\t\n",
      "word 网络\t\t start:8\t\t end:10\t\t\n",
      "word 有限公司\t\t start:10\t\t end:14\t\t\n"
     ]
    }
   ],
   "source": [
    "result = jieba.tokenize('在宁波的宁波聚像网络有限公司')\n",
    "for tk in result:\n",
    "    print(\"word %s\\t\\t start:%d\\t\\t end:%d\\t\\t\" %(tk[0], tk[1], tk[2]))"
   ]
  },
  {
   "cell_type": "markdown",
   "metadata": {},
   "source": [
    "### 搜索模式"
   ]
  },
  {
   "cell_type": "code",
   "execution_count": 37,
   "metadata": {},
   "outputs": [
    {
     "name": "stdout",
     "output_type": "stream",
     "text": [
      "word 在\t\t start:0\t\t end:1\t\t\n",
      "word 宁波\t\t start:1\t\t end:3\t\t\n",
      "word 的\t\t start:3\t\t end:4\t\t\n",
      "word 宁波\t\t start:4\t\t end:6\t\t\n",
      "word 聚像\t\t start:6\t\t end:8\t\t\n",
      "word 网络\t\t start:8\t\t end:10\t\t\n",
      "word 有限\t\t start:10\t\t end:12\t\t\n",
      "word 公司\t\t start:12\t\t end:14\t\t\n",
      "word 有限公司\t\t start:10\t\t end:14\t\t\n"
     ]
    }
   ],
   "source": [
    "result = jieba.tokenize('在宁波的宁波聚像网络有限公司', mode='search')\n",
    "for tk in result:\n",
    "    print(\"word %s\\t\\t start:%d\\t\\t end:%d\\t\\t\" %(tk[0], tk[1], tk[2]))"
   ]
  },
  {
   "cell_type": "code",
   "execution_count": null,
   "metadata": {},
   "outputs": [],
   "source": []
  }
 ],
 "metadata": {
  "kernelspec": {
   "display_name": "Python 3",
   "language": "python",
   "name": "python3"
  },
  "language_info": {
   "codemirror_mode": {
    "name": "ipython",
    "version": 3
   },
   "file_extension": ".py",
   "mimetype": "text/x-python",
   "name": "python",
   "nbconvert_exporter": "python",
   "pygments_lexer": "ipython3",
   "version": "3.7.4"
  }
 },
 "nbformat": 4,
 "nbformat_minor": 4
}
